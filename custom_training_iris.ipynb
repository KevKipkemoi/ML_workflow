{
 "cells": [
  {
   "cell_type": "code",
   "execution_count": 35,
   "metadata": {},
   "outputs": [
    {
     "name": "stdout",
     "output_type": "stream",
     "text": [
      "Tensor flow version: 1.13.1\n",
      "Eager execution: True\n"
     ]
    }
   ],
   "source": [
    "import os\n",
    "import matplotlib.pyplot as plt\n",
    "import tensorflow as tf\n",
    "\n",
    "tf.enable_eager_execution()\n",
    "\n",
    "print(\"Tensor flow version: {}\".format(tf.__version__))\n",
    "print(\"Eager execution: {}\".format(tf.executing_eagerly()))"
   ]
  },
  {
   "cell_type": "markdown",
   "metadata": {},
   "source": [
    "Download the data"
   ]
  },
  {
   "cell_type": "code",
   "execution_count": 4,
   "metadata": {},
   "outputs": [
    {
     "name": "stdout",
     "output_type": "stream",
     "text": [
      "Downloading data from https://storage.googleapis.com/download.tensorflow.org/data/iris_training.csv\n",
      "8192/2194 [================================================================================================================] - 0s 0us/step\n"
     ]
    }
   ],
   "source": [
    "train_dataset_url = \"https://storage.googleapis.com/download.tensorflow.org/data/iris_training.csv\"\n",
    "train_dataset_fp = tf.keras.utils.get_file(\n",
    "    fname = os.path.basename(train_dataset_url),\n",
    "    origin = train_dataset_url\n",
    ")"
   ]
  },
  {
   "cell_type": "code",
   "execution_count": 6,
   "metadata": {},
   "outputs": [
    {
     "name": "stdout",
     "output_type": "stream",
     "text": [
      "Local copy of dataset: C:\\Users\\Kev\\.keras\\datasets\\iris_training.csv\n"
     ]
    }
   ],
   "source": [
    "print(\"Local copy of dataset: {}\".format(train_dataset_fp))"
   ]
  },
  {
   "cell_type": "markdown",
   "metadata": {},
   "source": [
    "Inspect the data"
   ]
  },
  {
   "cell_type": "code",
   "execution_count": 7,
   "metadata": {},
   "outputs": [
    {
     "name": "stdout",
     "output_type": "stream",
     "text": [
      "120,4,setosa,versicolor,virginica\n",
      "6.4,2.8,5.6,2.2,2\n",
      "5.0,2.3,3.3,1.0,1\n",
      "4.9,2.5,4.5,1.7,2\n",
      "4.9,3.1,1.5,0.1,0\n"
     ]
    }
   ],
   "source": [
    "!head -n5 {train_dataset_fp}"
   ]
  },
  {
   "cell_type": "markdown",
   "metadata": {},
   "source": [
    "Labels description\n",
    "0: iris setosa\n",
    "1: iris versicolor\n",
    "2: iris virginica"
   ]
  },
  {
   "cell_type": "code",
   "execution_count": 9,
   "metadata": {},
   "outputs": [
    {
     "name": "stdout",
     "output_type": "stream",
     "text": [
      "Features: ['sepal_length', 'sepal_width', 'petal_length', 'petal_width']\n",
      "Labels: species\n"
     ]
    }
   ],
   "source": [
    "column_names = ['sepal_length', 'sepal_width', 'petal_length', 'petal_width', 'species']\n",
    "feature_names = column_names[:-1]\n",
    "label_name = column_names[-1]\n",
    "\n",
    "print(\"Features: {}\".format(feature_names))\n",
    "print(\"Labels: {}\".format(label_name))"
   ]
  },
  {
   "cell_type": "markdown",
   "metadata": {},
   "source": [
    "Create a tf.data.Dataset"
   ]
  },
  {
   "cell_type": "code",
   "execution_count": 12,
   "metadata": {},
   "outputs": [],
   "source": [
    "batch_size = 32\n",
    "train_dataset = tf.contrib.data.make_csv_dataset(\n",
    "    train_dataset_fp,\n",
    "    batch_size,\n",
    "    column_names = column_names,\n",
    "    label_name = label_name,\n",
    "    num_epochs = 1\n",
    ")"
   ]
  },
  {
   "cell_type": "code",
   "execution_count": 15,
   "metadata": {},
   "outputs": [
    {
     "data": {
      "text/plain": [
       "OrderedDict([('sepal_length',\n",
       "              <tf.Tensor: id=134, shape=(32,), dtype=float32, numpy=\n",
       "              array([6.7, 6.2, 6.4, 7.2, 7.7, 6.7, 5.4, 5.1, 5.9, 5.7, 6.3, 4.6, 6.2,\n",
       "                     6.8, 5.1, 6.3, 5.7, 5.2, 5.5, 5.8, 5.5, 4.9, 5.3, 6.4, 6.5, 4.4,\n",
       "                     5. , 7.2, 5.4, 5. , 5. , 6.7], dtype=float32)>),\n",
       "             ('sepal_width',\n",
       "              <tf.Tensor: id=135, shape=(32,), dtype=float32, numpy=\n",
       "              array([3. , 3.4, 2.8, 3.2, 2.6, 3.1, 3.9, 3.7, 3.2, 2.8, 3.3, 3.1, 2.8,\n",
       "                     3.2, 3.8, 2.3, 3.8, 3.4, 3.5, 2.7, 2.4, 3.1, 3.7, 2.8, 2.8, 3. ,\n",
       "                     3.6, 3.6, 3.7, 3.5, 3.5, 3. ], dtype=float32)>),\n",
       "             ('petal_length',\n",
       "              <tf.Tensor: id=132, shape=(32,), dtype=float32, numpy=\n",
       "              array([5.2, 5.4, 5.6, 6. , 6.9, 5.6, 1.7, 1.5, 4.8, 4.1, 4.7, 1.5, 4.8,\n",
       "                     5.9, 1.9, 4.4, 1.7, 1.4, 1.3, 5.1, 3.8, 1.5, 1.5, 5.6, 4.6, 1.3,\n",
       "                     1.4, 6.1, 1.5, 1.6, 1.3, 5. ], dtype=float32)>),\n",
       "             ('petal_width',\n",
       "              <tf.Tensor: id=133, shape=(32,), dtype=float32, numpy=\n",
       "              array([2.3, 2.3, 2.2, 1.8, 2.3, 2.4, 0.4, 0.4, 1.8, 1.3, 1.6, 0.2, 1.8,\n",
       "                     2.3, 0.4, 1.3, 0.3, 0.2, 0.2, 1.9, 1.1, 0.1, 0.2, 2.1, 1.5, 0.2,\n",
       "                     0.2, 2.5, 0.2, 0.6, 0.3, 1.7], dtype=float32)>)])"
      ]
     },
     "execution_count": 15,
     "metadata": {},
     "output_type": "execute_result"
    }
   ],
   "source": [
    "features, labels = next(iter(train_dataset))\n",
    "features"
   ]
  },
  {
   "cell_type": "code",
   "execution_count": 16,
   "metadata": {},
   "outputs": [
    {
     "data": {
      "image/png": "[encoded data removed]",
      "text/plain": [
       "<Figure size 432x288 with 1 Axes>"
      ]
     },
     "metadata": {
      "needs_background": "light"
     },
     "output_type": "display_data"
    }
   ],
   "source": [
    "plt.scatter(\n",
    "    features['petal_length'].numpy(),\n",
    "    features['sepal_length'].numpy(),\n",
    "    c = labels.numpy(),\n",
    "    cmap = 'viridis'\n",
    ")\n",
    "\n",
    "plt.xlabel('Petal Length')\n",
    "plt.ylabel('Sepal Length')\n",
    "plt.show()"
   ]
  },
  {
   "cell_type": "code",
   "execution_count": 22,
   "metadata": {},
   "outputs": [],
   "source": [
    "def pack_feature_vector(features, labels):\n",
    "    \"\"\"Pack features into a single array\"\"\"\n",
    "    features = tf.stack(list(features.values()), axis = 1)\n",
    "    return features, labels"
   ]
  },
  {
   "cell_type": "code",
   "execution_count": 23,
   "metadata": {},
   "outputs": [
    {
     "name": "stdout",
     "output_type": "stream",
     "text": [
      "tf.Tensor(\n",
      "[[5.2 3.5 1.5 0.2]\n",
      " [4.7 3.2 1.3 0.2]\n",
      " [5.  3.5 1.3 0.3]\n",
      " [5.7 4.4 1.5 0.4]\n",
      " [4.6 3.1 1.5 0.2]], shape=(5, 4), dtype=float32)\n"
     ]
    }
   ],
   "source": [
    "# Pack the features pairs of each (features, label) into the training dataset\n",
    "train_dataset = train_dataset.map(pack_feature_vector)\n",
    "\n",
    "# Look at the features dataset array that's now an array of shape (batch_size, num_features)\n",
    "features, labels = next(iter(train_dataset))\n",
    "print(features[:5])"
   ]
  },
  {
   "cell_type": "markdown",
   "metadata": {},
   "source": []
  },
  {
   "cell_type": "markdown",
   "metadata": {},
   "source": [
    "# Model selection and training"
   ]
  },
  {
   "cell_type": "code",
   "execution_count": 36,
   "metadata": {},
   "outputs": [],
   "source": [
    "model = tf.keras.Sequential([\n",
    "    tf.keras.layers.Dense(10, activation = tf.nn.relu, input_shape = (4,)),\n",
    "    tf.keras.layers.Dense(10, activation = tf.nn.relu),\n",
    "    tf.keras.layers.Dense(3)\n",
    "])"
   ]
  },
  {
   "cell_type": "code",
   "execution_count": 39,
   "metadata": {},
   "outputs": [
    {
     "data": {
      "text/plain": [
       "<tf.Tensor: id=317, shape=(5, 3), dtype=float32, numpy=\n",
       "array([[ 1.6632625 ,  0.8922211 , -2.4476905 ],\n",
       "       [ 1.527781  ,  0.8115667 , -2.232955  ],\n",
       "       [ 1.6886642 ,  0.88337004, -2.4410298 ],\n",
       "       [ 2.022076  ,  1.0051411 , -2.8662271 ],\n",
       "       [ 1.4508618 ,  0.8095895 , -2.17681   ]], dtype=float32)>"
      ]
     },
     "execution_count": 39,
     "metadata": {},
     "output_type": "execute_result"
    }
   ],
   "source": [
    "predictions = model(features)\n",
    "predictions[:5]"
   ]
  },
  {
   "cell_type": "code",
   "execution_count": 41,
   "metadata": {},
   "outputs": [
    {
     "name": "stdout",
     "output_type": "stream",
     "text": [
      "Predictions: [0 0 0 0 0 1 0 1 1 0 1 0 1 1 1 1 0 1 0 1 1 1 1 1 1 0 0 0 1 1 1 0]\n",
      "Labels: [0 0 0 0 0 2 0 2 2 0 2 0 1 2 2 1 0 1 0 2 2 2 1 1 1 0 0 0 2 1 2 1]\n"
     ]
    }
   ],
   "source": [
    "# Convert the logits to a probability for each class\n",
    "tf.nn.softmax(predictions[:5])\n",
    "print(\"Predictions: {}\".format(tf.argmax(predictions, axis = 1)))\n",
    "print(\"Labels: {}\".format(labels))"
   ]
  },
  {
   "cell_type": "markdown",
   "metadata": {},
   "source": [
    "Define the Loss Gradient Function"
   ]
  },
  {
   "cell_type": "code",
   "execution_count": 45,
   "metadata": {},
   "outputs": [],
   "source": [
    "def loss(model, x, y):\n",
    "    y_ = model(x)\n",
    "    return tf.losses.sparse_softmax_cross_entropy(labels=y, logits=y_)"
   ]
  },
  {
   "cell_type": "code",
   "execution_count": 47,
   "metadata": {},
   "outputs": [
    {
     "name": "stdout",
     "output_type": "stream",
     "text": [
      "Loss test: 2.4048800468444824\n"
     ]
    }
   ],
   "source": [
    "l = loss(model, features, labels)\n",
    "print(\"Loss test: {}\".format(l))"
   ]
  },
  {
   "cell_type": "code",
   "execution_count": 48,
   "metadata": {},
   "outputs": [],
   "source": [
    "def grad(model, inputs, targets):\n",
    "    with tf.GradientTape() as tape:\n",
    "        loss_value = loss(model, inputs, targets)\n",
    "    return loss_value, tape.gradient(loss_value, model.trainable_variables)"
   ]
  },
  {
   "cell_type": "code",
   "execution_count": null,
   "metadata": {},
   "outputs": [],
   "source": []
  }
 ],
 "metadata": {
  "kernelspec": {
   "display_name": "Python 3",
   "language": "python",
   "name": "python3"
  },
  "language_info": {
   "codemirror_mode": {
    "name": "ipython",
    "version": 3
   },
   "file_extension": ".py",
   "mimetype": "text/x-python",
   "name": "python",
   "nbconvert_exporter": "python",
   "pygments_lexer": "ipython3",
   "version": "3.7.3"
  }
 },
 "nbformat": 4,
 "nbformat_minor": 2
}
