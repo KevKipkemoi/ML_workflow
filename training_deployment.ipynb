{
 "cells": [
  {
   "cell_type": "markdown",
   "metadata": {},
   "source": [
    "# Build Machine Learning Services, Prototype Real Applications, and Deploy"
   ]
  },
  {
   "cell_type": "code",
   "execution_count": null,
   "metadata": {},
   "outputs": [],
   "source": [
    "# GET /my_path"
   ]
  },
  {
   "cell_type": "code",
   "execution_count": null,
   "metadata": {},
   "outputs": [],
   "source": [
    "import random\n",
    "import pandas as pd\n",
    "import numpy as np\n",
    "\n",
    "iris_test_data = pd.read_csv('http://download.tensorflow.org/data/iris_test.csv', skiprows=[0], names=['sepal length', 'sepal width', 'petal width', 'Type'])\n",
    "iris_test_data['Type'] = np.where(iris_test_data[0]==0, 'setosa', np.where(iris_test_data['Type']==1, 'versicilor', 'virginica'))\n",
    "\n",
    "def show_random_iris():\n",
    "    choices = ['setosa', 'versicolor', 'viriginica']\n",
    "    random_flower = random.choice(choices)\n",
    "    flowers = {\n",
    "        'setosa': 'https://upload.wikimedia.org/wikipedia/commons/thumb/5/56/Kosaciec_szczecinkowaty_Iris_setosa.jpg/440px-Kosaciec_szczecinkowaty_Iris_setosa.jpg',\n",
    "        'versicolor': 'https://upload.wikimedia.org/wikipedia/commons/thumb/4/41/Iris_versicolor_3.jpg/440px-Iris_versicolor_3.jpg',\n",
    "        'virginica': 'https://upload.wikimedia.org/wikipedia/commons/thumb/9/9f/Iris_virginica.jpg/440px-Iris_virginica.jpg'\n",
    "    }\n",
    "    random_url = flowers[random_flower]\n",
    "    single_type = iris_test_data[(iris_test_data['Type']==random_flower)]\n",
    "    random_row = single_type.sample(n=1).drop(['Type'], axis=1)\n",
    "    final = random_flower, random_url, random_row\n",
    "    return(final)"
   ]
  },
  {
   "cell_type": "code",
   "execution_count": null,
   "metadata": {},
   "outputs": [],
   "source": [
    "# GET /get_random_flower\n",
    "random_result = show_random_iris()\n",
    "res = {\n",
    "    \"name\": random_result[0],\n",
    "    \"url\": random_result[1],\n",
    "    \"data\": {\"keys\": list(random_result[2]), \"values\": random_result[2].iloc[0].tolist()}\n",
    "}\n",
    "\n",
    "print(json_dumps(res))"
   ]
  },
  {
   "cell_type": "markdown",
   "metadata": {},
   "source": [
    "\n",
    "jupyter kernelgateway --KernelGatewayApp.api='kernel_gateway.notebook_http' --KernelGatewayApp.ip=0.0.0.0 --KernelGatewayApp.port=9090 --KernelGatewayApp.seed_uri=flower_power.ipynb --KernelGatewayApp.allow_origin='*'"
   ]
  }
 ],
 "metadata": {
  "kernelspec": {
   "display_name": "Python 3",
   "language": "python",
   "name": "python3"
  },
  "language_info": {
   "codemirror_mode": {
    "name": "ipython",
    "version": 3
   },
   "file_extension": ".py",
   "mimetype": "text/x-python",
   "name": "python",
   "nbconvert_exporter": "python",
   "pygments_lexer": "ipython3",
   "version": "3.7.3"
  }
 },
 "nbformat": 4,
 "nbformat_minor": 2
}
